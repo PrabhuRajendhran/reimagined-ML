{
  "nbformat": 4,
  "nbformat_minor": 0,
  "metadata": {
    "colab": {
      "provenance": [],
      "gpuType": "T4"
    },
    "kernelspec": {
      "name": "python3",
      "display_name": "Python 3"
    },
    "language_info": {
      "name": "python"
    },
    "accelerator": "GPU"
  },
  "cells": [
    {
      "cell_type": "markdown",
      "source": [
        "Why to represent Texts into Vectors?\n",
        "\n",
        "Ans : Any kind of machine learning, deep learning or statistical learning platform understands only numbers."
      ],
      "metadata": {
        "id": "ijHn8Jcqk-Jz"
      }
    },
    {
      "cell_type": "markdown",
      "source": [
        "How to represent Texts into Vectors?\n",
        "\n",
        "1. One Hot Encoding\n",
        "2. Bag of Words Model\n",
        "3. TF-IDF\n",
        "4. Word2Vec\n",
        "5. FastText\n",
        "6. GLOve\n",
        "7. BERT"
      ],
      "metadata": {
        "id": "2nSFaSXElF8G"
      }
    },
    {
      "cell_type": "markdown",
      "source": [
        "References\n",
        "\n",
        "https://www.analyticsvidhya.com/blog/2023/07/step-by-step-guide-to-word2vec-with-gensim/\n",
        "\n",
        "https://radimrehurek.com/gensim/auto_examples/tutorials/run_word2vec.html\n",
        "\n",
        "https://radimrehurek.com/gensim/models/word2vec.html\n",
        "\n",
        "https://analyticsindiamag.com/word2vec-vs-glove-a-comparative-guide-to-word-embedding-techniques/\n",
        "\n",
        "https://medium.com/intelligentmachines/word-embedding-and-one-hot-encoding-ad17b4bbe111\n",
        "\n"
      ],
      "metadata": {
        "id": "wBoXlekW_de7"
      }
    },
    {
      "cell_type": "markdown",
      "source": [
        "# Install Libraries"
      ],
      "metadata": {
        "id": "88Y2QrBQQEiy"
      }
    },
    {
      "cell_type": "code",
      "source": [
        "!pip install --upgrade gensim -qqq\n",
        "!pip install scikit-learn -qqq\n",
        "!pip install swifter -qqq\n",
        "!pip install glove-python3 -qqq\n",
        "!pip install spacy -qqq"
      ],
      "metadata": {
        "id": "idkk7SZl5KiK"
      },
      "execution_count": null,
      "outputs": []
    },
    {
      "cell_type": "markdown",
      "source": [
        "# Prepare Data"
      ],
      "metadata": {
        "id": "oOWmaiwHQLaX"
      }
    },
    {
      "cell_type": "code",
      "source": [
        "import pandas as pd\n",
        "\n",
        "train = pd.read_csv(\"train_sample.csv\", on_bad_lines = 'skip')\n",
        "#test = pd.read_csv(\"test.csv\", on_bad_lines = 'skip')"
      ],
      "metadata": {
        "id": "jUpVnU-Jlw58"
      },
      "execution_count": null,
      "outputs": []
    },
    {
      "cell_type": "code",
      "source": [
        "#from sklearn.utils import shuffle\n",
        "#train = shuffle(train)\n",
        "\n",
        "# print(train.shape)\n",
        "# train = train.sample(frac = 0.01)\n",
        "# print(train.shape)\n",
        "\n",
        "# print(test.shape)\n",
        "# test = test.sample(frac = 0.01)\n",
        "# print(test.shape)"
      ],
      "metadata": {
        "id": "GSJ_hm2tRWa7"
      },
      "execution_count": null,
      "outputs": []
    },
    {
      "cell_type": "code",
      "source": [
        "import spacy\n",
        "import string\n",
        "\n",
        "nlp = spacy.load(\"en_core_web_sm\")\n",
        "stop_words = nlp.Defaults.stop_words\n",
        "punctuations = string.punctuation"
      ],
      "metadata": {
        "id": "UHlE2GJgQkCN"
      },
      "execution_count": null,
      "outputs": []
    },
    {
      "cell_type": "code",
      "source": [
        "# Creating our tokenizer function\n",
        "def spacy_tokenizer(sentence):\n",
        "\n",
        "    doc = nlp(sentence)\n",
        "    mytokens = [ word.lemma_.lower().strip() for word in doc ]\n",
        "    mytokens = [ word for word in mytokens if word not in stop_words and word not in punctuations ]\n",
        "\n",
        "    return mytokens\n"
      ],
      "metadata": {
        "id": "025a1frgQtvs"
      },
      "execution_count": null,
      "outputs": []
    },
    {
      "cell_type": "code",
      "source": [
        "# Creating our tokenizer function\n",
        "def spacy_tokenizer(sentence):\n",
        "\n",
        "    doc = nlp(sentence)\n",
        "    mytokens = [ word.lemma_.lower().strip() for word in doc ]\n",
        "    mytokens = [ word for word in mytokens if word not in stop_words and word not in punctuations ]\n",
        "\n",
        "    return \" \".join(mytokens)\n"
      ],
      "metadata": {
        "id": "vmyOIOwoAku6"
      },
      "execution_count": null,
      "outputs": []
    },
    {
      "cell_type": "code",
      "source": [
        "train['tokens'] = train['comment_text'].apply(spacy_tokenizer)\n",
        "test['tokens'] = test['comment_text'].apply(spacy_tokenizer)"
      ],
      "metadata": {
        "id": "RVpndhSrUmZn"
      },
      "execution_count": null,
      "outputs": []
    },
    {
      "cell_type": "code",
      "source": [
        "train['sent'] = train['tokens'].str.join(' ')\n",
        "test['sent'] = test['tokens'].str.join(' ')"
      ],
      "metadata": {
        "id": "U2z6Tja_d7XS"
      },
      "execution_count": null,
      "outputs": []
    },
    {
      "cell_type": "markdown",
      "source": [
        "# Vectorize Data"
      ],
      "metadata": {
        "id": "HMwY2mQEQP-_"
      }
    },
    {
      "cell_type": "markdown",
      "source": [
        "1. Bag Of Words Model"
      ],
      "metadata": {
        "id": "HpsEe16moFcF"
      }
    },
    {
      "cell_type": "code",
      "source": [
        "from sklearn.feature_extraction.text import CountVectorizer\n",
        "\n",
        "vectorizer = CountVectorizer()\n",
        "X_train_vectors= vectorizer.fit_transform(train['sent'])\n",
        "X_test_vectors= vectorizer.transform(test['sent'])\n",
        "\n",
        "print(X_train_vectors.shape)\n",
        "print(X_test_vectors.shape)"
      ],
      "metadata": {
        "id": "MxPZn1LYjtSB"
      },
      "execution_count": null,
      "outputs": []
    },
    {
      "cell_type": "code",
      "source": [
        "len(vectorizer.get_feature_names_out())"
      ],
      "metadata": {
        "id": "NIaD0l8fj9Yr"
      },
      "execution_count": null,
      "outputs": []
    },
    {
      "cell_type": "markdown",
      "source": [
        "3. TF-IDF Model"
      ],
      "metadata": {
        "id": "U1hUCJcQoNSn"
      }
    },
    {
      "cell_type": "code",
      "source": [
        "from sklearn.feature_extraction.text import TfidfVectorizer\n",
        "vectorizer = TfidfVectorizer()\n",
        "X_train_vectors = vectorizer.fit_transform(train['sent'])\n",
        "X_test_vectors = vectorizer.transform(test['sent'])\n",
        "\n",
        "print(X_train_vectors.shape)\n",
        "print(X_test_vectors.shape)"
      ],
      "metadata": {
        "id": "MyBWel-kkI2C"
      },
      "execution_count": null,
      "outputs": []
    },
    {
      "cell_type": "code",
      "source": [
        "len(vectorizer.get_feature_names_out())"
      ],
      "metadata": {
        "id": "YUqzQhM1kJCI"
      },
      "execution_count": null,
      "outputs": []
    },
    {
      "cell_type": "markdown",
      "source": [
        "4. Word2Vec"
      ],
      "metadata": {
        "id": "VPA225hDo9_l"
      }
    },
    {
      "cell_type": "code",
      "source": [
        "import gensim\n",
        "import gensim.downloader as api\n",
        "from gensim.models.word2vec import Word2Vec\n",
        "\n",
        "import numpy as np\n",
        "import matplotlib.pyplot as plt\n",
        "\n",
        "np.random.seed(42)"
      ],
      "metadata": {
        "id": "Xhm3ql4WpDEP"
      },
      "execution_count": null,
      "outputs": []
    },
    {
      "cell_type": "code",
      "source": [
        "def wv_sent_vec(sent, model):\n",
        "\n",
        "    vector_size = model.wv.vector_size\n",
        "    wv_res = np.zeros(vector_size)\n",
        "    # print(wv_res)\n",
        "    ctr = 0\n",
        "    for w in sent:\n",
        "        if w in model.wv: #model.wv.index_to_key\n",
        "            ctr += 1\n",
        "            wv_res += model.wv[w]\n",
        "    if ctr != 0:\n",
        "      wv_res = wv_res/ctr\n",
        "    else:\n",
        "      wv_res = wv_res\n",
        "    return wv_res"
      ],
      "metadata": {
        "id": "1tpP0HEppDGT"
      },
      "execution_count": null,
      "outputs": []
    },
    {
      "cell_type": "code",
      "source": [
        "# w2v_model = Word2Vec(min_count=1,\n",
        "#                      window=2,\n",
        "#                      vector_size=300,\n",
        "#                      sample=6e-5,\n",
        "#                      alpha=0.03,\n",
        "#                      min_alpha=0.0007,\n",
        "#                      negative=20,\n",
        "#                      workers=4)"
      ],
      "metadata": {
        "id": "gra49bAT587C"
      },
      "execution_count": null,
      "outputs": []
    },
    {
      "cell_type": "code",
      "source": [
        "# w2v_model.build_vocab(df['tokens']) #, progress_per=10000"
      ],
      "metadata": {
        "id": "wg2ce-yD589i"
      },
      "execution_count": null,
      "outputs": []
    },
    {
      "cell_type": "code",
      "source": [
        "# w2v_model.train(df['tokens'], total_examples=w2v_model.corpus_count, epochs=30, report_delay=1)"
      ],
      "metadata": {
        "id": "fT6FTtVg59B9"
      },
      "execution_count": null,
      "outputs": []
    },
    {
      "cell_type": "code",
      "source": [
        "import gensim.models\n",
        "\n",
        "model = gensim.models.Word2Vec(sentences = train['tokens'], min_count = 5, compute_loss = True)\n",
        "print(model.get_latest_training_loss())\n",
        "\n",
        "model.save(\"word2vec.model\")\n",
        "model = Word2Vec.load(\"word2vec.model\")"
      ],
      "metadata": {
        "id": "q1XOyKLz2n-5"
      },
      "execution_count": null,
      "outputs": []
    },
    {
      "cell_type": "code",
      "source": [
        "train['wv_vec'] = train['tokens'].apply(wv_sent_vec, args = (model,))\n",
        "test['wv_vec'] = test['tokens'].apply(wv_sent_vec, args = (model,))"
      ],
      "metadata": {
        "id": "ujlFaoCc1lWb"
      },
      "execution_count": null,
      "outputs": []
    },
    {
      "cell_type": "code",
      "source": [
        "len(train['wv_vec'].values[0])"
      ],
      "metadata": {
        "id": "4z0rsjpu_YMI"
      },
      "execution_count": null,
      "outputs": []
    },
    {
      "cell_type": "markdown",
      "source": [
        "5. FastText"
      ],
      "metadata": {
        "id": "huplnI6ZFg-z"
      }
    },
    {
      "cell_type": "code",
      "source": [
        "from gensim.models import FastText\n",
        "\n",
        "\n",
        "embedding_size = 300\n",
        "window_size = 5\n",
        "#min_word = 5\n",
        "#down_sampling = 1e-2\n",
        "model = FastText(vector_size=embedding_size, window=window_size, min_count=1, sentences=train['tokens'], epochs=1)"
      ],
      "metadata": {
        "id": "SEuLegzmFjDo"
      },
      "execution_count": null,
      "outputs": []
    },
    {
      "cell_type": "code",
      "source": [
        "# from gensim.test.utils import get_tmpfile\n",
        "# model.save(get_tmpfile(\"fasttext.model\"))\n",
        "# model = FastText.load(get_tmpfile(\"fasttext.model\"))"
      ],
      "metadata": {
        "id": "Cdwj6MAyG9sE"
      },
      "execution_count": null,
      "outputs": []
    },
    {
      "cell_type": "code",
      "source": [
        "model.save(\"fasttext.model\")\n",
        "model = FastText.load(\"fasttext.model\")"
      ],
      "metadata": {
        "id": "5mY3TXatFjQ0"
      },
      "execution_count": null,
      "outputs": []
    },
    {
      "cell_type": "code",
      "source": [
        "train['ft_vec'] = train['tokens'].apply(wv_sent_vec, args = (model,))\n",
        "test['ft_vec'] = test['tokens'].apply(wv_sent_vec, args = (model,))"
      ],
      "metadata": {
        "id": "N9DsHEswFjTH"
      },
      "execution_count": null,
      "outputs": []
    },
    {
      "cell_type": "code",
      "source": [
        "len(train['ft_vec'].values[0])"
      ],
      "metadata": {
        "id": "iKA6pkWNFjcu"
      },
      "execution_count": null,
      "outputs": []
    },
    {
      "cell_type": "markdown",
      "source": [
        "6. GLOve"
      ],
      "metadata": {
        "id": "85vdvUuQHFYE"
      }
    },
    {
      "cell_type": "code",
      "source": [
        "from glove import Corpus, Glove\n",
        "\n",
        "#Creating a corpus object\n",
        "corpus = Corpus()\n",
        "\n",
        "#Training the corpus to generate the co-occurrence matrix which is used in GloVe\n",
        "corpus.fit(list(train['tokens']), window=10)\n",
        "\n",
        "glove = Glove(no_components=300, learning_rate=0.05)\n",
        "glove.fit(corpus.matrix, epochs=5, no_threads=4, verbose=True)\n",
        "glove.add_dictionary(corpus.dictionary)\n",
        "glove.save('glove.model')"
      ],
      "metadata": {
        "id": "0n_wPJonHG7v"
      },
      "execution_count": null,
      "outputs": []
    },
    {
      "cell_type": "code",
      "source": [
        "def gl_sent_vec(sent):\n",
        "    vector_size = glove.no_components\n",
        "    wv_res = np.zeros(vector_size)\n",
        "    # print(wv_res)\n",
        "    ctr = 0\n",
        "    for w in sent:\n",
        "        if w in glove.dictionary.keys():\n",
        "            ctr += 1\n",
        "            wv_res += glove.word_vectors[glove.dictionary[w]]\n",
        "    if ctr != 0:\n",
        "      wv_res = wv_res/ctr\n",
        "    return wv_res"
      ],
      "metadata": {
        "id": "6Qixi_pwHG--"
      },
      "execution_count": null,
      "outputs": []
    },
    {
      "cell_type": "code",
      "source": [
        "model = glove.load('glove.model')"
      ],
      "metadata": {
        "id": "TQZSpd3uHHA9"
      },
      "execution_count": null,
      "outputs": []
    },
    {
      "cell_type": "code",
      "source": [
        "#Test for random word in corpus\n",
        "\n",
        "len(glove.word_vectors[glove.dictionary['document']])"
      ],
      "metadata": {
        "id": "AD2DPHhFHHE-"
      },
      "execution_count": null,
      "outputs": []
    },
    {
      "cell_type": "code",
      "source": [
        "train['glovevec'] = train['tokens'].apply(gl_sent_vec)\n",
        "test['glovevec'] = test['tokens'].apply(gl_sent_vec)"
      ],
      "metadata": {
        "id": "V7se77HsHHHy"
      },
      "execution_count": null,
      "outputs": []
    },
    {
      "cell_type": "markdown",
      "source": [
        "4. BERT"
      ],
      "metadata": {
        "id": "uGdpXa4AuLEi"
      }
    },
    {
      "cell_type": "code",
      "source": [
        "!pip install transformers[sentencepiece] datasets -qqq"
      ],
      "metadata": {
        "id": "WAKC8AMcwlMP"
      },
      "execution_count": null,
      "outputs": []
    },
    {
      "cell_type": "code",
      "source": [
        "from google.colab import userdata\n",
        "userdata.get('HF_TOKEN')"
      ],
      "metadata": {
        "id": "SDtkKyj6J-5z"
      },
      "execution_count": null,
      "outputs": []
    },
    {
      "cell_type": "code",
      "source": [
        "from transformers import AutoTokenizer, AutoModel\n",
        "\n",
        "checkpoint = 'sentence-transformers/all-MiniLM-L6-v2'\n",
        "\n",
        "tokenizer = AutoTokenizer.from_pretrained(checkpoint)\n",
        "model = AutoModel.from_pretrained(checkpoint)"
      ],
      "metadata": {
        "id": "uIH5dnOHuNPf"
      },
      "execution_count": null,
      "outputs": []
    },
    {
      "cell_type": "code",
      "source": [
        "X_train_tokens = tokenizer(list(train['comment_text']),padding=True, truncation=True, return_tensors=\"pt\")\n",
        "#X_test_tokens = tokenizer(list(test['comment_text']),padding=True, truncation=True, return_tensors=\"pt\")"
      ],
      "metadata": {
        "id": "FGdTHI8VwkDU"
      },
      "execution_count": null,
      "outputs": []
    },
    {
      "cell_type": "code",
      "source": [
        "X_train_embeddings = model(**X_train_tokens)"
      ],
      "metadata": {
        "id": "bi1uAaCt4Ts_"
      },
      "execution_count": null,
      "outputs": []
    },
    {
      "cell_type": "code",
      "source": [
        "X_train_embeddings.shape"
      ],
      "metadata": {
        "id": "pzVZjpypxAnC"
      },
      "execution_count": null,
      "outputs": []
    },
    {
      "cell_type": "markdown",
      "source": [
        "5. SBERT"
      ],
      "metadata": {
        "id": "hJPgK0bYAE56"
      }
    },
    {
      "cell_type": "code",
      "source": [
        "!pip install sentence-transformers -qqq"
      ],
      "metadata": {
        "id": "jVlJLpPpAGZ2"
      },
      "execution_count": null,
      "outputs": []
    },
    {
      "cell_type": "code",
      "source": [
        "from sentence_transformers import SentenceTransformer\n",
        "model = SentenceTransformer('all-MiniLM-L6-v2')"
      ],
      "metadata": {
        "id": "BmkeoeqlAGb-"
      },
      "execution_count": null,
      "outputs": []
    },
    {
      "cell_type": "code",
      "source": [
        "!pip install swifter -qqq"
      ],
      "metadata": {
        "id": "vW007qEZAgXQ"
      },
      "execution_count": null,
      "outputs": []
    },
    {
      "cell_type": "code",
      "source": [
        "train['tokenize'] = train['comment_text'].apply(spacy_tokenizer)"
      ],
      "metadata": {
        "id": "iazFngp7AGfr"
      },
      "execution_count": null,
      "outputs": []
    },
    {
      "cell_type": "code",
      "source": [
        "train['embeddings'] = train['tokenize'].apply(model.encode)"
      ],
      "metadata": {
        "id": "rEXX9rJJAGhb"
      },
      "execution_count": null,
      "outputs": []
    },
    {
      "cell_type": "code",
      "source": [
        "len(train['embeddings'].values[0])"
      ],
      "metadata": {
        "id": "NeQe8osvAGlK"
      },
      "execution_count": null,
      "outputs": []
    },
    {
      "cell_type": "code",
      "source": [],
      "metadata": {
        "id": "covfq05iAGoK"
      },
      "execution_count": null,
      "outputs": []
    }
  ]
}