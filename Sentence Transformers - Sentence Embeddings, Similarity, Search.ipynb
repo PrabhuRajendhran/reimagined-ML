{
  "nbformat": 4,
  "nbformat_minor": 0,
  "metadata": {
    "colab": {
      "provenance": []
    },
    "kernelspec": {
      "name": "python3",
      "display_name": "Python 3"
    },
    "language_info": {
      "name": "python"
    }
  },
  "cells": [
    {
      "cell_type": "code",
      "source": [
        "%%capture\n",
        "!pip install sentence-transformers"
      ],
      "metadata": {
        "id": "fFIY65roOcdc"
      },
      "execution_count": 1,
      "outputs": []
    },
    {
      "cell_type": "code",
      "execution_count": 3,
      "metadata": {
        "id": "IdWNWLxeOQi0"
      },
      "outputs": [],
      "source": [
        "from sentence_transformers import SentenceTransformer\n",
        "model = SentenceTransformer('all-MiniLM-L6-v2')\n",
        "\n",
        "#Our sentences we like to encode\n",
        "sentences = ['This framework generates embeddings for each input sentence',\n",
        "    'Sentences are passed as a list of string.',\n",
        "    'The quick brown fox jumps over the lazy dog.']\n",
        "\n",
        "#Sentences are encoded by calling model.encode()\n",
        "embeddings = model.encode(sentences)"
      ]
    },
    {
      "cell_type": "code",
      "source": [
        "#Print the embeddings\n",
        "for sentence, embedding in zip(sentences, embeddings):\n",
        "    print(\"Sentence:\", sentence)\n",
        "    print(\"Embedding:\", embedding.shape)\n",
        "    print(\"\")"
      ],
      "metadata": {
        "colab": {
          "base_uri": "https://localhost:8080/"
        },
        "id": "lcUr9xROO4AU",
        "outputId": "44b6b49b-51ff-47c1-bb84-d4ea8906567d"
      },
      "execution_count": 4,
      "outputs": [
        {
          "output_type": "stream",
          "name": "stdout",
          "text": [
            "Sentence: This framework generates embeddings for each input sentence\n",
            "Embedding: (384,)\n",
            "\n",
            "Sentence: Sentences are passed as a list of string.\n",
            "Embedding: (384,)\n",
            "\n",
            "Sentence: The quick brown fox jumps over the lazy dog.\n",
            "Embedding: (384,)\n",
            "\n"
          ]
        }
      ]
    },
    {
      "cell_type": "code",
      "source": [
        "from sentence_transformers import util\n",
        "\n",
        "# Two lists of sentences\n",
        "sentences1 = ['The cat sits outside',\n",
        "             'A man is playing guitar',\n",
        "             'The new movie is awesome']\n",
        "\n",
        "sentences2 = ['The dog plays in the garden',\n",
        "              'A woman watches TV',\n",
        "              'The new movie is so great']\n",
        "\n",
        "#Compute embedding for both lists\n",
        "embeddings1 = model.encode(sentences1, convert_to_tensor=True)\n",
        "embeddings2 = model.encode(sentences2, convert_to_tensor=True)\n",
        "\n",
        "#Compute cosine-similarities\n",
        "cosine_scores = util.cos_sim(embeddings1, embeddings2)\n",
        "\n",
        "#Output the pairs with their score\n",
        "for index1, s1 in enumerate(sentences1):\n",
        "  for index2, s2 in enumerate(sentences2):\n",
        "    print(\"{} \\t\\t {} \\t\\t Score: {:.4f}\".format(s1, s2, cosine_scores[index1][index2]))"
      ],
      "metadata": {
        "colab": {
          "base_uri": "https://localhost:8080/"
        },
        "id": "pDZwPV3bPr5P",
        "outputId": "29a52852-2e09-4b08-9321-6a9e4cee58f5"
      },
      "execution_count": 6,
      "outputs": [
        {
          "output_type": "stream",
          "name": "stdout",
          "text": [
            "The cat sits outside \t\t The dog plays in the garden \t\t Score: 0.2838\n",
            "The cat sits outside \t\t A woman watches TV \t\t Score: 0.1310\n",
            "The cat sits outside \t\t The new movie is so great \t\t Score: -0.0029\n",
            "A man is playing guitar \t\t The dog plays in the garden \t\t Score: 0.2277\n",
            "A man is playing guitar \t\t A woman watches TV \t\t Score: -0.0327\n",
            "A man is playing guitar \t\t The new movie is so great \t\t Score: -0.0136\n",
            "The new movie is awesome \t\t The dog plays in the garden \t\t Score: 0.0543\n",
            "The new movie is awesome \t\t A woman watches TV \t\t Score: -0.0502\n",
            "The new movie is awesome \t\t The new movie is so great \t\t Score: 0.8939\n"
          ]
        }
      ]
    },
    {
      "cell_type": "code",
      "source": [
        "# Single list of sentences - Possible tens of thousands of sentences\n",
        "sentences = ['The cat sits outside',\n",
        "             'A man is playing guitar',\n",
        "             'I love pasta',\n",
        "             'The new movie is awesome',\n",
        "             'The cat plays in the garden',\n",
        "             'A woman watches TV',\n",
        "             'The new movie is so great',\n",
        "             'Do you like pizza?']\n",
        "\n",
        "paraphrases = util.paraphrase_mining(model, sentences)\n",
        "\n",
        "print(len(paraphrases))"
      ],
      "metadata": {
        "colab": {
          "base_uri": "https://localhost:8080/"
        },
        "id": "nBSyrhbDTm3e",
        "outputId": "9900f455-3ede-4983-b20a-717a6921cb26"
      },
      "execution_count": 10,
      "outputs": [
        {
          "output_type": "stream",
          "name": "stdout",
          "text": [
            "28\n"
          ]
        }
      ]
    },
    {
      "cell_type": "code",
      "source": [
        "for paraphrase in paraphrases:\n",
        "    score, i, j = paraphrase\n",
        "    print(\"{} \\t\\t {} \\t\\t Score: {:.4f}\".format(sentences[i], sentences[j], score))"
      ],
      "metadata": {
        "colab": {
          "base_uri": "https://localhost:8080/"
        },
        "id": "k-x7CE2LUBqg",
        "outputId": "29bbf55c-eaed-4888-e318-5d771506ab97"
      },
      "execution_count": 11,
      "outputs": [
        {
          "output_type": "stream",
          "name": "stdout",
          "text": [
            "The new movie is awesome \t\t The new movie is so great \t\t Score: 0.8939\n",
            "The cat sits outside \t\t The cat plays in the garden \t\t Score: 0.6788\n",
            "I love pasta \t\t Do you like pizza? \t\t Score: 0.5096\n",
            "I love pasta \t\t The new movie is so great \t\t Score: 0.2560\n",
            "I love pasta \t\t The new movie is awesome \t\t Score: 0.2440\n",
            "A man is playing guitar \t\t The cat plays in the garden \t\t Score: 0.2105\n",
            "The new movie is awesome \t\t Do you like pizza? \t\t Score: 0.1969\n",
            "The new movie is so great \t\t Do you like pizza? \t\t Score: 0.1692\n",
            "The cat sits outside \t\t A woman watches TV \t\t Score: 0.1310\n",
            "The cat plays in the garden \t\t Do you like pizza? \t\t Score: 0.0900\n",
            "The cat plays in the garden \t\t A woman watches TV \t\t Score: 0.0629\n",
            "The cat plays in the garden \t\t The new movie is so great \t\t Score: 0.0591\n",
            "A woman watches TV \t\t Do you like pizza? \t\t Score: 0.0417\n",
            "The cat sits outside \t\t A man is playing guitar \t\t Score: 0.0363\n",
            "I love pasta \t\t A woman watches TV \t\t Score: 0.0359\n",
            "The new movie is awesome \t\t The cat plays in the garden \t\t Score: 0.0275\n",
            "The cat sits outside \t\t Do you like pizza? \t\t Score: 0.0254\n",
            "I love pasta \t\t The cat plays in the garden \t\t Score: 0.0230\n",
            "A man is playing guitar \t\t Do you like pizza? \t\t Score: 0.0116\n",
            "A man is playing guitar \t\t The new movie is awesome \t\t Score: 0.0093\n",
            "The cat sits outside \t\t I love pasta \t\t Score: 0.0081\n",
            "The cat sits outside \t\t The new movie is so great \t\t Score: -0.0029\n",
            "A man is playing guitar \t\t The new movie is so great \t\t Score: -0.0136\n",
            "The cat sits outside \t\t The new movie is awesome \t\t Score: -0.0247\n",
            "A man is playing guitar \t\t A woman watches TV \t\t Score: -0.0327\n",
            "A man is playing guitar \t\t I love pasta \t\t Score: -0.0368\n",
            "The new movie is awesome \t\t A woman watches TV \t\t Score: -0.0502\n",
            "A woman watches TV \t\t The new movie is so great \t\t Score: -0.0509\n"
          ]
        }
      ]
    },
    {
      "cell_type": "code",
      "source": [
        "import torch\n",
        "\n",
        "# Corpus with example sentences\n",
        "corpus = [\n",
        "    \"A man is eating food.\",\n",
        "    \"A man is eating a piece of bread.\",\n",
        "    \"The girl is carrying a baby.\",\n",
        "    \"A man is riding a horse.\",\n",
        "    \"A woman is playing violin.\",\n",
        "    \"Two men pushed carts through the woods.\",\n",
        "    \"A man is riding a white horse on an enclosed ground.\",\n",
        "    \"A monkey is playing drums.\",\n",
        "    \"A cheetah is running behind its prey.\",\n",
        "]\n",
        "corpus_embeddings = model.encode(corpus, convert_to_tensor=True)\n",
        "\n",
        "# Query sentences:\n",
        "queries = [\n",
        "    \"A man is eating pasta.\",\n",
        "    \"Someone in a gorilla costume is playing a set of drums.\",\n",
        "    \"A cheetah chases prey on across a field.\",\n",
        "]\n",
        "\n",
        "\n",
        "# Find the closest 5 sentences of the corpus for each query sentence based on cosine similarity\n",
        "top_k = min(5, len(corpus))\n",
        "for query in queries:\n",
        "    query_embedding = model.encode(query, convert_to_tensor=True)\n",
        "\n",
        "    # We use cosine-similarity and torch.topk to find the highest 5 scores\n",
        "    cos_scores = util.cos_sim(query_embedding, corpus_embeddings)[0]\n",
        "    top_results = torch.topk(cos_scores, k=top_k)\n",
        "\n",
        "    print(\"\\n\\n======================\\n\\n\")\n",
        "\n",
        "\n",
        "    print(\"Query:\", query)\n",
        "    print(top_results)\n",
        "\n",
        "    print(\"\\nTop 5 most similar sentences in corpus:\")\n",
        "\n",
        "    for score, idx in zip(top_results[0], top_results[1]):\n",
        "        print(corpus[idx], \"(Score: {:.4f})\".format(score))"
      ],
      "metadata": {
        "colab": {
          "base_uri": "https://localhost:8080/"
        },
        "id": "OQMr9P6MVm2l",
        "outputId": "7e62274b-a3c3-441b-c23f-de7ac48674cb"
      },
      "execution_count": 14,
      "outputs": [
        {
          "output_type": "stream",
          "name": "stdout",
          "text": [
            "\n",
            "\n",
            "======================\n",
            "\n",
            "\n",
            "Query: A man is eating pasta.\n",
            "torch.return_types.topk(\n",
            "values=tensor([0.7035, 0.5272, 0.1889, 0.1047, 0.0980]),\n",
            "indices=tensor([0, 1, 3, 6, 8]))\n",
            "\n",
            "Top 5 most similar sentences in corpus:\n",
            "A man is eating food. (Score: 0.7035)\n",
            "A man is eating a piece of bread. (Score: 0.5272)\n",
            "A man is riding a horse. (Score: 0.1889)\n",
            "A man is riding a white horse on an enclosed ground. (Score: 0.1047)\n",
            "A cheetah is running behind its prey. (Score: 0.0980)\n",
            "\n",
            "\n",
            "======================\n",
            "\n",
            "\n",
            "Query: Someone in a gorilla costume is playing a set of drums.\n",
            "torch.return_types.topk(\n",
            "values=tensor([0.6433, 0.2564, 0.1389, 0.1191, 0.1080]),\n",
            "indices=tensor([7, 4, 3, 6, 8]))\n",
            "\n",
            "Top 5 most similar sentences in corpus:\n",
            "A monkey is playing drums. (Score: 0.6433)\n",
            "A woman is playing violin. (Score: 0.2564)\n",
            "A man is riding a horse. (Score: 0.1389)\n",
            "A man is riding a white horse on an enclosed ground. (Score: 0.1191)\n",
            "A cheetah is running behind its prey. (Score: 0.1080)\n",
            "\n",
            "\n",
            "======================\n",
            "\n",
            "\n",
            "Query: A cheetah chases prey on across a field.\n",
            "torch.return_types.topk(\n",
            "values=tensor([0.8253, 0.1399, 0.1292, 0.1097, 0.0650]),\n",
            "indices=tensor([8, 0, 7, 6, 3]))\n",
            "\n",
            "Top 5 most similar sentences in corpus:\n",
            "A cheetah is running behind its prey. (Score: 0.8253)\n",
            "A man is eating food. (Score: 0.1399)\n",
            "A monkey is playing drums. (Score: 0.1292)\n",
            "A man is riding a white horse on an enclosed ground. (Score: 0.1097)\n",
            "A man is riding a horse. (Score: 0.0650)\n"
          ]
        }
      ]
    }
  ]
}