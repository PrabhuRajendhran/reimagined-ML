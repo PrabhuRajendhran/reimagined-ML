{
  "nbformat": 4,
  "nbformat_minor": 0,
  "metadata": {
    "colab": {
      "provenance": [],
      "include_colab_link": true
    },
    "kernelspec": {
      "name": "python3",
      "display_name": "Python 3"
    },
    "language_info": {
      "name": "python"
    },
    "widgets": {
      "application/vnd.jupyter.widget-state+json": {
        "584fa14b8d1d445e9f5eb523ee731cfc": {
          "model_module": "@jupyter-widgets/controls",
          "model_name": "HBoxModel",
          "model_module_version": "1.5.0",
          "state": {
            "_view_name": "HBoxView",
            "_dom_classes": [],
            "_model_name": "HBoxModel",
            "_view_module": "@jupyter-widgets/controls",
            "_model_module_version": "1.5.0",
            "_view_count": null,
            "_view_module_version": "1.5.0",
            "box_style": "",
            "layout": "IPY_MODEL_a344a1bc4fe94602b9ea9d04cc969b07",
            "_model_module": "@jupyter-widgets/controls",
            "children": [
              "IPY_MODEL_465a62c67b1c4bfba656de0d5089b3b4",
              "IPY_MODEL_9f040359f3c24c50902e335b0af3b7a1",
              "IPY_MODEL_a933841bd2d241539101dcd244626b38"
            ]
          }
        },
        "a344a1bc4fe94602b9ea9d04cc969b07": {
          "model_module": "@jupyter-widgets/base",
          "model_name": "LayoutModel",
          "model_module_version": "1.2.0",
          "state": {
            "_view_name": "LayoutView",
            "grid_template_rows": null,
            "right": null,
            "justify_content": null,
            "_view_module": "@jupyter-widgets/base",
            "overflow": null,
            "_model_module_version": "1.2.0",
            "_view_count": null,
            "flex_flow": null,
            "width": null,
            "min_width": null,
            "border": null,
            "align_items": null,
            "bottom": null,
            "_model_module": "@jupyter-widgets/base",
            "top": null,
            "grid_column": null,
            "overflow_y": null,
            "overflow_x": null,
            "grid_auto_flow": null,
            "grid_area": null,
            "grid_template_columns": null,
            "flex": null,
            "_model_name": "LayoutModel",
            "justify_items": null,
            "grid_row": null,
            "max_height": null,
            "align_content": null,
            "visibility": null,
            "align_self": null,
            "height": null,
            "min_height": null,
            "padding": null,
            "grid_auto_rows": null,
            "grid_gap": null,
            "max_width": null,
            "order": null,
            "_view_module_version": "1.2.0",
            "grid_template_areas": null,
            "object_position": null,
            "object_fit": null,
            "grid_auto_columns": null,
            "margin": null,
            "display": null,
            "left": null
          }
        },
        "465a62c67b1c4bfba656de0d5089b3b4": {
          "model_module": "@jupyter-widgets/controls",
          "model_name": "HTMLModel",
          "model_module_version": "1.5.0",
          "state": {
            "_view_name": "HTMLView",
            "style": "IPY_MODEL_5d7b6b9dc2be4e3cb15b0f2c225d19e0",
            "_dom_classes": [],
            "description": "",
            "_model_name": "HTMLModel",
            "placeholder": "​",
            "_view_module": "@jupyter-widgets/controls",
            "_model_module_version": "1.5.0",
            "value": "Downloading: 100%",
            "_view_count": null,
            "_view_module_version": "1.5.0",
            "description_tooltip": null,
            "_model_module": "@jupyter-widgets/controls",
            "layout": "IPY_MODEL_d6b0145a679a410b8d1034bf7976faa8"
          }
        },
        "9f040359f3c24c50902e335b0af3b7a1": {
          "model_module": "@jupyter-widgets/controls",
          "model_name": "FloatProgressModel",
          "model_module_version": "1.5.0",
          "state": {
            "_view_name": "ProgressView",
            "style": "IPY_MODEL_7155b9e00266493097d30a7971a3637e",
            "_dom_classes": [],
            "description": "",
            "_model_name": "FloatProgressModel",
            "bar_style": "success",
            "max": 263273408,
            "_view_module": "@jupyter-widgets/controls",
            "_model_module_version": "1.5.0",
            "value": 263273408,
            "_view_count": null,
            "_view_module_version": "1.5.0",
            "orientation": "horizontal",
            "min": 0,
            "description_tooltip": null,
            "_model_module": "@jupyter-widgets/controls",
            "layout": "IPY_MODEL_0c5caba28394445ea32f63de5d50c46e"
          }
        },
        "a933841bd2d241539101dcd244626b38": {
          "model_module": "@jupyter-widgets/controls",
          "model_name": "HTMLModel",
          "model_module_version": "1.5.0",
          "state": {
            "_view_name": "HTMLView",
            "style": "IPY_MODEL_beb5e16cdfcf4738bf57288c9afcbd3e",
            "_dom_classes": [],
            "description": "",
            "_model_name": "HTMLModel",
            "placeholder": "​",
            "_view_module": "@jupyter-widgets/controls",
            "_model_module_version": "1.5.0",
            "value": " 251M/251M [00:10&lt;00:00, 41.9MB/s]",
            "_view_count": null,
            "_view_module_version": "1.5.0",
            "description_tooltip": null,
            "_model_module": "@jupyter-widgets/controls",
            "layout": "IPY_MODEL_57de7b2f7d7c4083b3d91fb5fd314d13"
          }
        },
        "5d7b6b9dc2be4e3cb15b0f2c225d19e0": {
          "model_module": "@jupyter-widgets/controls",
          "model_name": "DescriptionStyleModel",
          "model_module_version": "1.5.0",
          "state": {
            "_view_name": "StyleView",
            "_model_name": "DescriptionStyleModel",
            "description_width": "",
            "_view_module": "@jupyter-widgets/base",
            "_model_module_version": "1.5.0",
            "_view_count": null,
            "_view_module_version": "1.2.0",
            "_model_module": "@jupyter-widgets/controls"
          }
        },
        "d6b0145a679a410b8d1034bf7976faa8": {
          "model_module": "@jupyter-widgets/base",
          "model_name": "LayoutModel",
          "model_module_version": "1.2.0",
          "state": {
            "_view_name": "LayoutView",
            "grid_template_rows": null,
            "right": null,
            "justify_content": null,
            "_view_module": "@jupyter-widgets/base",
            "overflow": null,
            "_model_module_version": "1.2.0",
            "_view_count": null,
            "flex_flow": null,
            "width": null,
            "min_width": null,
            "border": null,
            "align_items": null,
            "bottom": null,
            "_model_module": "@jupyter-widgets/base",
            "top": null,
            "grid_column": null,
            "overflow_y": null,
            "overflow_x": null,
            "grid_auto_flow": null,
            "grid_area": null,
            "grid_template_columns": null,
            "flex": null,
            "_model_name": "LayoutModel",
            "justify_items": null,
            "grid_row": null,
            "max_height": null,
            "align_content": null,
            "visibility": null,
            "align_self": null,
            "height": null,
            "min_height": null,
            "padding": null,
            "grid_auto_rows": null,
            "grid_gap": null,
            "max_width": null,
            "order": null,
            "_view_module_version": "1.2.0",
            "grid_template_areas": null,
            "object_position": null,
            "object_fit": null,
            "grid_auto_columns": null,
            "margin": null,
            "display": null,
            "left": null
          }
        },
        "7155b9e00266493097d30a7971a3637e": {
          "model_module": "@jupyter-widgets/controls",
          "model_name": "ProgressStyleModel",
          "model_module_version": "1.5.0",
          "state": {
            "_view_name": "StyleView",
            "_model_name": "ProgressStyleModel",
            "description_width": "",
            "_view_module": "@jupyter-widgets/base",
            "_model_module_version": "1.5.0",
            "_view_count": null,
            "_view_module_version": "1.2.0",
            "bar_color": null,
            "_model_module": "@jupyter-widgets/controls"
          }
        },
        "0c5caba28394445ea32f63de5d50c46e": {
          "model_module": "@jupyter-widgets/base",
          "model_name": "LayoutModel",
          "model_module_version": "1.2.0",
          "state": {
            "_view_name": "LayoutView",
            "grid_template_rows": null,
            "right": null,
            "justify_content": null,
            "_view_module": "@jupyter-widgets/base",
            "overflow": null,
            "_model_module_version": "1.2.0",
            "_view_count": null,
            "flex_flow": null,
            "width": null,
            "min_width": null,
            "border": null,
            "align_items": null,
            "bottom": null,
            "_model_module": "@jupyter-widgets/base",
            "top": null,
            "grid_column": null,
            "overflow_y": null,
            "overflow_x": null,
            "grid_auto_flow": null,
            "grid_area": null,
            "grid_template_columns": null,
            "flex": null,
            "_model_name": "LayoutModel",
            "justify_items": null,
            "grid_row": null,
            "max_height": null,
            "align_content": null,
            "visibility": null,
            "align_self": null,
            "height": null,
            "min_height": null,
            "padding": null,
            "grid_auto_rows": null,
            "grid_gap": null,
            "max_width": null,
            "order": null,
            "_view_module_version": "1.2.0",
            "grid_template_areas": null,
            "object_position": null,
            "object_fit": null,
            "grid_auto_columns": null,
            "margin": null,
            "display": null,
            "left": null
          }
        },
        "beb5e16cdfcf4738bf57288c9afcbd3e": {
          "model_module": "@jupyter-widgets/controls",
          "model_name": "DescriptionStyleModel",
          "model_module_version": "1.5.0",
          "state": {
            "_view_name": "StyleView",
            "_model_name": "DescriptionStyleModel",
            "description_width": "",
            "_view_module": "@jupyter-widgets/base",
            "_model_module_version": "1.5.0",
            "_view_count": null,
            "_view_module_version": "1.2.0",
            "_model_module": "@jupyter-widgets/controls"
          }
        },
        "57de7b2f7d7c4083b3d91fb5fd314d13": {
          "model_module": "@jupyter-widgets/base",
          "model_name": "LayoutModel",
          "model_module_version": "1.2.0",
          "state": {
            "_view_name": "LayoutView",
            "grid_template_rows": null,
            "right": null,
            "justify_content": null,
            "_view_module": "@jupyter-widgets/base",
            "overflow": null,
            "_model_module_version": "1.2.0",
            "_view_count": null,
            "flex_flow": null,
            "width": null,
            "min_width": null,
            "border": null,
            "align_items": null,
            "bottom": null,
            "_model_module": "@jupyter-widgets/base",
            "top": null,
            "grid_column": null,
            "overflow_y": null,
            "overflow_x": null,
            "grid_auto_flow": null,
            "grid_area": null,
            "grid_template_columns": null,
            "flex": null,
            "_model_name": "LayoutModel",
            "justify_items": null,
            "grid_row": null,
            "max_height": null,
            "align_content": null,
            "visibility": null,
            "align_self": null,
            "height": null,
            "min_height": null,
            "padding": null,
            "grid_auto_rows": null,
            "grid_gap": null,
            "max_width": null,
            "order": null,
            "_view_module_version": "1.2.0",
            "grid_template_areas": null,
            "object_position": null,
            "object_fit": null,
            "grid_auto_columns": null,
            "margin": null,
            "display": null,
            "left": null
          }
        }
      }
    }
  },
  "cells": [
    {
      "cell_type": "markdown",
      "metadata": {
        "id": "view-in-github",
        "colab_type": "text"
      },
      "source": [
        "<a href=\"https://colab.research.google.com/github/PrabhuRajendhran/reimagined-ML/blob/main/text%2Bnumerical_categorical.ipynb\" target=\"_parent\"><img src=\"https://colab.research.google.com/assets/colab-badge.svg\" alt=\"Open In Colab\"/></a>"
      ]
    },
    {
      "cell_type": "markdown",
      "source": [
        "# Combining numerical/categorical data with transformers\n",
        "\n",
        "For simple text classification, the last hidden state for the CLS token is run through a classifier, producing a score for each label.  A simple way to combine text and numerical/categorical data is to concatenate the CLS embedding with the extra data. If the CLS embedding is [1.0, 2.0, 3.0] and the extra data is 5.0, then the concatenated version is [1.0, 2.0, 3.0, 5.0]. Likewise for categorical data, turn the variable into a one-hot encoding and concatenate that.\n",
        "\n",
        "## UPDATE: See [this notebook](https://colab.research.google.com/drive/1F7COnwHqcLDPg_SS-oFgW3c2GPDWnS5Y) for version 2 that can be used in Hugging Face Trainer"
      ],
      "metadata": {
        "id": "WyuFlpSTgK5L"
      }
    },
    {
      "cell_type": "code",
      "execution_count": null,
      "metadata": {
        "colab": {
          "base_uri": "https://localhost:8080/"
        },
        "id": "ghFgtnitNg-6",
        "outputId": "1dbc63a5-75d6-4b0a-cf7b-1f35303a638d"
      },
      "outputs": [
        {
          "output_type": "stream",
          "name": "stdout",
          "text": [
            "\u001b[K     |████████████████████████████████| 3.4 MB 4.5 MB/s \n",
            "\u001b[K     |████████████████████████████████| 3.3 MB 42.1 MB/s \n",
            "\u001b[K     |████████████████████████████████| 61 kB 256 kB/s \n",
            "\u001b[K     |████████████████████████████████| 895 kB 48.9 MB/s \n",
            "\u001b[K     |████████████████████████████████| 596 kB 49.9 MB/s \n",
            "\u001b[?25h"
          ]
        }
      ],
      "source": [
        "!pip install transformers -q"
      ]
    },
    {
      "cell_type": "code",
      "source": [
        "from transformers import AutoConfig, AutoModel\n",
        "import torch\n",
        "\n",
        "class CustomModel(torch.nn.Module):\n",
        "    \"\"\"\n",
        "    This takes a transformer backbone and puts a slightly-modified classification head on top.\n",
        "\n",
        "    \"\"\"\n",
        "\n",
        "    def __init__(self, model_name, num_extra_dims, num_labels):\n",
        "        # num_extra_dims corresponds to the number of extra dimensions of numerical/categorical data\n",
        "\n",
        "        super().__init__()\n",
        "\n",
        "        self.config = AutoConfig.from_pretrained(model_name)\n",
        "        self.transformer = AutoModel.from_pretrained(model_name, config=self.config)\n",
        "        num_hidden_size = self.transformer.config.hidden_size # May be different depending on which model you use. Common sizes are 768 and 1024. Look in the config.json file\n",
        "        self.classifier = torch.nn.Linear(num_hidden_size+num_extra_dims, num_labels)\n",
        "\n",
        "\n",
        "    def forward(self, input_ids, extra_data, attention_mask=None):\n",
        "        \"\"\"\n",
        "        extra_data should be of shape [batch_size, dim]\n",
        "        where dim is the number of additional numerical/categorical dimensions\n",
        "        \"\"\"\n",
        "\n",
        "        hidden_states = self.transformer(input_ids=input_ids, attention_mask=attention_mask) # [batch size, sequence length, hidden size]\n",
        "\n",
        "        cls_embeds = hidden_states.last_hidden_state[:, 0, :] # [batch size, hidden size]\n",
        "\n",
        "        concat = torch.cat((cls_embeds, extra_data), dim=-1) # [batch size, hidden size+num extra dims]\n",
        "\n",
        "        output = self.classifier(concat) # [batch size, num labels]\n",
        "\n",
        "        return output\n"
      ],
      "metadata": {
        "id": "m-TTyOMJOGBD"
      },
      "execution_count": null,
      "outputs": []
    },
    {
      "cell_type": "code",
      "source": [
        "model_name = \"distilbert-base-cased\"\n",
        "num_extra_dims = 5\n",
        "num_labels = 7\n",
        "batch_size = 8"
      ],
      "metadata": {
        "id": "3Nx2LDPtVDFV"
      },
      "execution_count": null,
      "outputs": []
    },
    {
      "cell_type": "code",
      "source": [
        "from transformers import AutoTokenizer\n",
        "\n",
        "\n",
        "tokenizer = AutoTokenizer.from_pretrained(model_name)\n",
        "custom_model = CustomModel(model_name, num_extra_dims=num_extra_dims, num_labels=num_labels)"
      ],
      "metadata": {
        "colab": {
          "base_uri": "https://localhost:8080/",
          "height": 121,
          "referenced_widgets": [
            "584fa14b8d1d445e9f5eb523ee731cfc",
            "a344a1bc4fe94602b9ea9d04cc969b07",
            "465a62c67b1c4bfba656de0d5089b3b4",
            "9f040359f3c24c50902e335b0af3b7a1",
            "a933841bd2d241539101dcd244626b38",
            "5d7b6b9dc2be4e3cb15b0f2c225d19e0",
            "d6b0145a679a410b8d1034bf7976faa8",
            "7155b9e00266493097d30a7971a3637e",
            "0c5caba28394445ea32f63de5d50c46e",
            "beb5e16cdfcf4738bf57288c9afcbd3e",
            "57de7b2f7d7c4083b3d91fb5fd314d13"
          ]
        },
        "id": "w6aj0Zq3ahYs",
        "outputId": "17a16d80-b36b-44a2-d00a-449a5f47b09f"
      },
      "execution_count": null,
      "outputs": [
        {
          "output_type": "display_data",
          "data": {
            "application/vnd.jupyter.widget-view+json": {
              "model_id": "584fa14b8d1d445e9f5eb523ee731cfc",
              "version_minor": 0,
              "version_major": 2
            },
            "text/plain": [
              "Downloading:   0%|          | 0.00/251M [00:00<?, ?B/s]"
            ]
          },
          "metadata": {}
        },
        {
          "output_type": "stream",
          "name": "stderr",
          "text": [
            "Some weights of the model checkpoint at distilbert-base-cased were not used when initializing DistilBertModel: ['vocab_layer_norm.weight', 'vocab_transform.weight', 'vocab_projector.bias', 'vocab_projector.weight', 'vocab_transform.bias', 'vocab_layer_norm.bias']\n",
            "- This IS expected if you are initializing DistilBertModel from the checkpoint of a model trained on another task or with another architecture (e.g. initializing a BertForSequenceClassification model from a BertForPreTraining model).\n",
            "- This IS NOT expected if you are initializing DistilBertModel from the checkpoint of a model that you expect to be exactly identical (initializing a BertForSequenceClassification model from a BertForSequenceClassification model).\n"
          ]
        }
      ]
    },
    {
      "cell_type": "code",
      "source": [
        "# Duplicating input sentence for simplicity while still showing batching\n",
        "encoded = tokenizer([\"This is an example sentence\"]*batch_size, return_tensors=\"pt\")\n",
        "\n",
        "# Dummy data (can be numerical or categorical)\n",
        "extra_data = torch.rand((batch_size, num_extra_dims))"
      ],
      "metadata": {
        "id": "LIUlWbMMas8p"
      },
      "execution_count": null,
      "outputs": []
    },
    {
      "cell_type": "code",
      "source": [
        "encoded[\"input_ids\"] # [batch size, sequence length]"
      ],
      "metadata": {
        "colab": {
          "base_uri": "https://localhost:8080/"
        },
        "id": "Hfjb_sbidizJ",
        "outputId": "4474c449-917a-458b-9977-682ab6ff2b33"
      },
      "execution_count": null,
      "outputs": [
        {
          "output_type": "execute_result",
          "data": {
            "text/plain": [
              "tensor([[ 101, 1188, 1110, 1126, 1859, 5650,  102],\n",
              "        [ 101, 1188, 1110, 1126, 1859, 5650,  102],\n",
              "        [ 101, 1188, 1110, 1126, 1859, 5650,  102],\n",
              "        [ 101, 1188, 1110, 1126, 1859, 5650,  102],\n",
              "        [ 101, 1188, 1110, 1126, 1859, 5650,  102],\n",
              "        [ 101, 1188, 1110, 1126, 1859, 5650,  102],\n",
              "        [ 101, 1188, 1110, 1126, 1859, 5650,  102],\n",
              "        [ 101, 1188, 1110, 1126, 1859, 5650,  102]])"
            ]
          },
          "metadata": {},
          "execution_count": 9
        }
      ]
    },
    {
      "cell_type": "code",
      "source": [
        "extra_data # pretend this is what you are adding to each sequence"
      ],
      "metadata": {
        "colab": {
          "base_uri": "https://localhost:8080/"
        },
        "id": "2gNmynWqdllx",
        "outputId": "d2b3c64e-bc0f-4d1a-9a42-3fb93f7496cd"
      },
      "execution_count": null,
      "outputs": [
        {
          "output_type": "execute_result",
          "data": {
            "text/plain": [
              "tensor([[0.4903, 0.9065, 0.0020, 0.7355, 0.6623],\n",
              "        [0.6330, 0.0328, 0.4184, 0.3743, 0.3858],\n",
              "        [0.8357, 0.9689, 0.0681, 0.4625, 0.7332],\n",
              "        [0.1433, 0.1529, 0.9276, 0.6186, 0.1452],\n",
              "        [0.6958, 0.8449, 0.9475, 0.0389, 0.7816],\n",
              "        [0.6270, 0.7992, 0.8266, 0.6182, 0.5612],\n",
              "        [0.2574, 0.6601, 0.2305, 0.0559, 0.9399],\n",
              "        [0.5884, 0.2998, 0.5159, 0.2381, 0.3132]])"
            ]
          },
          "metadata": {},
          "execution_count": 10
        }
      ]
    },
    {
      "cell_type": "code",
      "source": [
        "with torch.no_grad():\n",
        "    output = custom_model(encoded[\"input_ids\"], extra_data, attention_mask=encoded[\"attention_mask\"])\n",
        "print(output.shape) # [batch size, num labels]\n",
        "output"
      ],
      "metadata": {
        "colab": {
          "base_uri": "https://localhost:8080/"
        },
        "id": "QCg4_uhXa0EK",
        "outputId": "775cdb91-3935-40a6-a57c-f857e48e600f"
      },
      "execution_count": null,
      "outputs": [
        {
          "output_type": "stream",
          "name": "stdout",
          "text": [
            "torch.Size([8, 7])\n"
          ]
        },
        {
          "output_type": "execute_result",
          "data": {
            "text/plain": [
              "tensor([[-0.1769,  0.1392,  0.0755, -0.4035,  0.1356,  0.0360,  0.5473],\n",
              "        [-0.1795,  0.1093,  0.0946, -0.4394,  0.1943,  0.0083,  0.5606],\n",
              "        [-0.1757,  0.1427,  0.0633, -0.4032,  0.1493,  0.0373,  0.5623],\n",
              "        [-0.1733,  0.1077,  0.1128, -0.4273,  0.1900,  0.0122,  0.5520],\n",
              "        [-0.1772,  0.1222,  0.0839, -0.4004,  0.1861,  0.0357,  0.5760],\n",
              "        [-0.1609,  0.1364,  0.0839, -0.3939,  0.1697,  0.0435,  0.5625],\n",
              "        [-0.2037,  0.1042,  0.0959, -0.4214,  0.1607,  0.0178,  0.5537],\n",
              "        [-0.1827,  0.1135,  0.0890, -0.4345,  0.1914,  0.0081,  0.5663]])"
            ]
          },
          "metadata": {},
          "execution_count": 12
        }
      ]
    }
  ]
}